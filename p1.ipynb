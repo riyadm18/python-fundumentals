{
 "cells": [
  {
   "cell_type": "code",
   "execution_count": 1,
   "id": "0a78bb17-df3b-42c3-82d7-815d18db9355",
   "metadata": {},
   "outputs": [
    {
     "name": "stdout",
     "output_type": "stream",
     "text": [
      "Bob ST1001 bob@gmail.com\n"
     ]
    }
   ],
   "source": [
    "name = \"Bob\"\n",
    "student_number = \"ST1001\"\n",
    "email = \"bob@gmail.com\"\n",
    "print(name, student_number, email)"
   ]
  },
  {
   "cell_type": "code",
   "execution_count": 2,
   "id": "936819cf-abcf-4156-871a-5d7a6e819b5e",
   "metadata": {},
   "outputs": [
    {
     "name": "stdout",
     "output_type": "stream",
     "text": [
      "Bob\tST1001\tbob@gmail.com\n"
     ]
    }
   ],
   "source": [
    "print(\"Bob\\tST1001\\tbob@gmail.com\")"
   ]
  },
  {
   "cell_type": "code",
   "execution_count": 5,
   "id": "748d38eb-4dde-4032-81cf-e502fe8f07dc",
   "metadata": {},
   "outputs": [
    {
     "name": "stdout",
     "output_type": "stream",
     "text": [
      "14 + 7 = 21\n",
      "14 * 7 = 98\n",
      "14 - 7 = 7\n",
      "14 / 7 = 2.0\n"
     ]
    }
   ],
   "source": [
    "num1, num2 = 14, 7\n",
    "print(f\"{num1} + {num2} = {num1 + num2}\")\n",
    "print(f\"{num1} * {num2} = {num1 * num2}\")\n",
    "print(f\"{num1} - {num2} = {num1 - num2}\")\n",
    "print(f\"{num1} / {num2} = {num1 / num2}\")"
   ]
  },
  {
   "cell_type": "code",
   "execution_count": 6,
   "id": "4569a42e-2a57-4999-bbe6-27336e0824b8",
   "metadata": {},
   "outputs": [
    {
     "name": "stdout",
     "output_type": "stream",
     "text": [
      "1\n",
      "2\n",
      "3\n",
      "4\n",
      "5\n"
     ]
    }
   ],
   "source": [
    "for i in range(1, 6):\n",
    "    print(i)"
   ]
  },
  {
   "cell_type": "code",
   "execution_count": 7,
   "id": "4154fb73-58b4-4659-8c45-b2dcb0ed2fb9",
   "metadata": {},
   "outputs": [
    {
     "name": "stdout",
     "output_type": "stream",
     "text": [
      "\"SDK\" stands for \"Software Development Kit\", whereas \"IDE\" stands for \"Integrated Development Environment\".\n"
     ]
    }
   ],
   "source": [
    "print('\"SDK\" stands for \"Software Development Kit\", whereas \"IDE\" stands for \"Integrated Development Environment\".')"
   ]
  },
  {
   "cell_type": "code",
   "execution_count": 8,
   "id": "d019f59f-76ef-432a-8fcc-36d8d2cefde7",
   "metadata": {},
   "outputs": [
    {
     "name": "stdout",
     "output_type": "stream",
     "text": [
      "python is an \"awesome\" language.\n",
      "python\n",
      "\t2023\n",
      "I'm from Entri\n",
      "5\n",
      "e\n",
      "Entri\n",
      "2023\n",
      "Entr2023\n",
      "Entri*20"
     ]
    }
   ],
   "source": [
    "print(\"python is an \\\"awesome\\\" language.\")\n",
    "print(\"python\\n\\t2023\")\n",
    "print('I\\'m from Entri.\\b')\n",
    "print(\"\\65\")\n",
    "print(\"\\x65\")\n",
    "print(\"Entri\", \"2023\", sep=\"\\n\")\n",
    "print(\"Entri\", \"2023\", sep=\"\\b\")\n",
    "print(\"Entri\", \"2023\", sep=\"*\", end=\"\\b\\b\\b\\b\")"
   ]
  },
  {
   "cell_type": "code",
   "execution_count": 9,
   "id": "b7bb01f7-3cf2-4e76-a23b-bd4fac5b18d1",
   "metadata": {},
   "outputs": [
    {
     "name": "stdout",
     "output_type": "stream",
     "text": [
      "Type of num: <class 'int'>\n",
      "Type of textnum: <class 'str'>\n",
      "Type of decimal: <class 'float'>\n"
     ]
    }
   ],
   "source": [
    "num = 23\n",
    "textnum = \"57\"\n",
    "decimal = 98.3\n",
    "\n",
    "print(f\"Type of num: {type(num)}\")\n",
    "print(f\"Type of textnum: {type(textnum)}\")\n",
    "print(f\"Type of decimal: {type(decimal)}\")"
   ]
  },
  {
   "cell_type": "code",
   "execution_count": 10,
   "id": "5c62024a-7e41-46bf-92f1-2bf340fa3edb",
   "metadata": {},
   "outputs": [
    {
     "name": "stdout",
     "output_type": "stream",
     "text": [
      "There are 525600 minutes in a year\n"
     ]
    }
   ],
   "source": [
    "days_in_year = 365\n",
    "hours_in_day = 24\n",
    "minutes_in_hour = 60\n",
    "\n",
    "total_minutes = days_in_year * hours_in_day * minutes_in_hour\n",
    "print(f\"There are {total_minutes} minutes in a year\")"
   ]
  },
  {
   "cell_type": "code",
   "execution_count": 11,
   "id": "b2df4e6a-a640-4b1d-9fc6-b44e7b9bf309",
   "metadata": {},
   "outputs": [
    {
     "name": "stdin",
     "output_type": "stream",
     "text": [
      "Please enter your name:  Ginny\n"
     ]
    },
    {
     "name": "stdout",
     "output_type": "stream",
     "text": [
      "Hi Ginny, welcome to Python programming :)\n"
     ]
    }
   ],
   "source": [
    "name = input(\"Please enter your name: \")\n",
    "print(f\"Hi {name}, welcome to Python programming :)\")"
   ]
  },
  {
   "cell_type": "code",
   "execution_count": 12,
   "id": "6123b185-5c29-4555-895b-d05952988059",
   "metadata": {},
   "outputs": [
    {
     "name": "stdin",
     "output_type": "stream",
     "text": [
      "Please enter amount in pounds:  55\n"
     ]
    },
    {
     "name": "stdout",
     "output_type": "stream",
     "text": [
      "£ 55.0 are $ 68.75\n"
     ]
    }
   ],
   "source": [
    "pounds = float(input(\"Please enter amount in pounds: \"))\n",
    "conversion_rate = 1.25\n",
    "dollars = pounds * conversion_rate\n",
    "print(f\"£ {pounds} are $ {dollars:.2f}\")"
   ]
  },
  {
   "cell_type": "code",
   "execution_count": null,
   "id": "856e590f-a132-4cc9-b68a-e5feb789a299",
   "metadata": {},
   "outputs": [],
   "source": []
  }
 ],
 "metadata": {
  "kernelspec": {
   "display_name": "Python [conda env:base] *",
   "language": "python",
   "name": "conda-base-py"
  },
  "language_info": {
   "codemirror_mode": {
    "name": "ipython",
    "version": 3
   },
   "file_extension": ".py",
   "mimetype": "text/x-python",
   "name": "python",
   "nbconvert_exporter": "python",
   "pygments_lexer": "ipython3",
   "version": "3.12.7"
  }
 },
 "nbformat": 4,
 "nbformat_minor": 5
}
